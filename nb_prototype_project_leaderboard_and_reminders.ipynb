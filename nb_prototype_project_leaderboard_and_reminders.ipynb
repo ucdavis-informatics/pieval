{
 "cells": [
  {
   "cell_type": "markdown",
   "metadata": {},
   "source": [
    "# Project Leaderboard and Annotation Reminder prototyping\n",
    "Leaderboard goal: to add competition to the platform and allow for incentivised participation  \n",
    "\n",
    "Reminder Goal: Tool to help users compete with a push rather than a pull mechanism"
   ]
  },
  {
   "cell_type": "code",
   "execution_count": 1,
   "metadata": {},
   "outputs": [
    {
     "name": "stdout",
     "output_type": "stream",
     "text": [
      "!!!scheduler already started, DO NOTHING\n"
     ]
    }
   ],
   "source": [
    "import pandas as pd\n",
    "import logging\n",
    "from app.data_loader import FileDataLoader, DBDataLoader\n",
    "import instance.config as config\n",
    "from smtplib import SMTP\n",
    "from email.message import EmailMessage\n",
    "\n",
    "\n",
    "# jup specific\n",
    "from IPython.display import display, HTML\n",
    "# config notebook\n",
    "\n",
    "\n",
    "\"\"\"Build a logger\"\"\"\n",
    "logger = logging.getLogger(__name__)\n",
    "formatter = logging.Formatter(\"%(asctime)s - %(levelname)s - %(message)s\")\n",
    "logger.setLevel(logging.DEBUG)\n",
    "ch = logging.StreamHandler()\n",
    "ch.setFormatter(formatter)\n",
    "logger.addHandler(ch)\n",
    "\n",
    "\n",
    "\"\"\"Build datasource\"\"\"\n",
    "if config.DATASOURCE_TYPE == 'file':\n",
    "    pv_dl = FileDataLoader(config.DATASOURCE_LOCATION, logger)\n",
    "elif config.DATASOURCE_TYPE == 'db':\n",
    "    pv_dl = DBDataLoader(config.VAULT_TOKEN,\n",
    "                         config.VAULT_SERVER,\n",
    "                         config.DATASOURCE_LOCATION,\n",
    "                         config.DB_SCHEMA,\n",
    "                         logger)\n"
   ]
  },
  {
   "cell_type": "code",
   "execution_count": 2,
   "metadata": {},
   "outputs": [
    {
     "data": {
      "text/plain": [
       "'http://localhost:5001/'"
      ]
     },
     "execution_count": 2,
     "metadata": {},
     "output_type": "execute_result"
    }
   ],
   "source": [
    "config.HOST_FQDN+config.BLUEPRINT_URL_PREFIX"
   ]
  },
  {
   "cell_type": "markdown",
   "metadata": {},
   "source": [
    "# Email Reminder Prototyping\n",
    "RE-use the same code used to build the table on pieval index except drop it in an email instead of place it on a webpage!"
   ]
  },
  {
   "cell_type": "code",
   "execution_count": 3,
   "metadata": {},
   "outputs": [
    {
     "name": "stderr",
     "output_type": "stream",
     "text": [
      "2020-05-01 13:57:50,461 - DEBUG - Starting new HTTPS connection (1): vault-ri.ucdmc.ucdavis.edu:8200\n",
      "2020-05-01 13:57:50,699 - DEBUG - https://vault-ri.ucdmc.ucdavis.edu:8200 \"GET /v1/cdi3/db/cdi3sql01/dev HTTP/1.1\" 200 369\n",
      "2020-05-01 13:57:50,701 - INFO - Creating MSSQL Database Engine\n",
      "2020-05-01 13:57:50,701 - INFO - Creating MSSQL Database Engine\n"
     ]
    },
    {
     "name": "stdout",
     "output_type": "stream",
     "text": [
      "creating sqlalchemy engine\n"
     ]
    },
    {
     "data": {
      "text/plain": [
       "[{'user_name': 'awriedl',\n",
       "  'print_name': 'Bill',\n",
       "  'email': 'awriedl@ucdavis.edu'},\n",
       " {'user_name': 'jmcawood',\n",
       "  'print_name': 'Joseph',\n",
       "  'email': 'awriedl@ucdavis.edu'},\n",
       " {'user_name': 'mrenquis',\n",
       "  'print_name': 'Matt',\n",
       "  'email': 'awriedl@ucdavis.edu'},\n",
       " {'user_name': 'cyvhuynh', 'print_name': 'Cy', 'email': 'awriedl@ucdavis.edu'},\n",
       " {'user_name': 'jdcobabe',\n",
       "  'print_name': 'Jared',\n",
       "  'email': 'awriedl@ucdavis.edu'}]"
      ]
     },
     "execution_count": 3,
     "metadata": {},
     "output_type": "execute_result"
    }
   ],
   "source": [
    "# get user data - this will limit to people who have been configured to receive alerts\n",
    "user_details = pv_dl.getUserData()\n",
    "user_details"
   ]
  },
  {
   "cell_type": "code",
   "execution_count": 4,
   "metadata": {},
   "outputs": [],
   "source": [
    "dryrun=True\n",
    "from_email='test@test.com'\n",
    "days_till_nag = 3"
   ]
  },
  {
   "cell_type": "code",
   "execution_count": null,
   "metadata": {
    "scrolled": false
   },
   "outputs": [],
   "source": [
    "# get project data (all projects)\n",
    "data = pv_dl.getProjectData(return_as_dataframe=True)\n",
    "for one_user in user_details:\n",
    "    user_name = one_user.get('user_name')\n",
    "    print_name = one_user.get('print_name')\n",
    "    email = one_user.get('email')\n",
    "    \n",
    "    # get data for this user\n",
    "    try:\n",
    "        pieval_projects = pv_dl.getProjects(user_name=user_name, return_as_dataframe = True)\n",
    "        prev_annots_for_user = pv_dl.getPriorAnnotations(user_name=user_name, return_as_dataframe=True)\n",
    "        \n",
    "        # group and join\n",
    "        proj_example_counts = (data.groupby(['project_name'])\n",
    "                                       .size()\n",
    "                                       .to_frame()\n",
    "                                       .rename(columns={0:'num_examples'})\n",
    "                                       .reset_index())\n",
    "\n",
    "        user_proj_counts = (prev_annots_for_user.groupby(['project_name'])\n",
    "                                   .agg(\n",
    "                                       num_annotated=('example_id','count'),\n",
    "                                       last_annot_time=('response_time','max')\n",
    "                                   )\n",
    "                                   .reset_index())\n",
    "        user_proj_counts['days_since_last'] = (pd.datetime.now() - user_proj_counts['last_annot_time']).dt.days\n",
    "\n",
    "        proj_status = pd.merge(proj_example_counts,\n",
    "                               user_proj_counts,\n",
    "                               on='project_name',\n",
    "                               how='left')\n",
    "        proj_status['pct_complete'] = round((proj_status['num_annotated'] / proj_status['num_examples']) * 100)\n",
    "        proj_status = proj_status.fillna(0)\n",
    "        pieval_projects = pieval_projects.merge(proj_status.filter(['project_name','pct_complete']),\n",
    "                                                on='project_name', how='left')\n",
    "        incomplete_projects = (pieval_projects.loc[((pieval_projects['pct_complete'] < 100)\n",
    "                                                   &(pieval_projects['days_since_last'] > 3))]\n",
    "                                              .to_dict(orient='records'))\n",
    "\n",
    "        logger.info(f\"Current Username is {user_name}, print name is {print_name} and email is {email}\")\n",
    "        #print(incomplete_projects)\n",
    "        if len(incomplete_projects) > 0:\n",
    "            # build a status_string with N entries\n",
    "            status_string=''\n",
    "            for ip in incomplete_projects:\n",
    "                status_string += f\"\"\"You are {ip.get('pct_complete')} percent \\\n",
    "complete on the {ip.get('project_name')} project\\n\"\"\"\n",
    "            \n",
    "            # combine that into the message\n",
    "            message = f\"\"\"Hi {print_name},\\nThis is Pieval!  I'm reaching out because \\\n",
    "you have {len(incomplete_projects)} incomplete annotation projects \\\n",
    "and I would like to see you stay on top of the leaderboard!\\n{status_string}\\\n",
    "Please login here to finish up: {config.HOST_FQDN+config.BLUEPRINT_URL_PREFIX}\n",
    "\"\"\"\n",
    "            \n",
    "            logger.info(\"===== SENDING EMAIL ==========\")\n",
    "            msg = EmailMessage()\n",
    "            msg.set_content(message)\n",
    "            msg['Subject'] = f'Pieval Annotation Reminder'\n",
    "            msg['From'] = from_email\n",
    "            msg['To'] = email\n",
    "\n",
    "            if dryrun:\n",
    "                logger.info(\"DRY RUN!!\")\n",
    "                print(message)\n",
    "            else:\n",
    "                try:\n",
    "                    with SMTP(\"smtp.ucdavis.edu\", port=587) as smtp:\n",
    "                        smtp.send_message(msg)\n",
    "                        logger.info(f'Sent reminder email to: {email}')\n",
    "                except:\n",
    "                    logger.error(f'Could not send email to {email}.')\n",
    "\n",
    "\n",
    "    except KeyError as ke:\n",
    "        logger.error(\"There is not data for this user!\")\n",
    "        logger.error(ke)\n",
    "    \n",
    "    print()\n",
    "    \n",
    "    \n",
    "    "
   ]
  },
  {
   "cell_type": "code",
   "execution_count": null,
   "metadata": {},
   "outputs": [],
   "source": [
    "prev_annots_for_user = pv_dl.getPriorAnnotations(user_name='awriedl', return_as_dataframe=True)"
   ]
  },
  {
   "cell_type": "code",
   "execution_count": null,
   "metadata": {},
   "outputs": [],
   "source": [
    "prev_annots_for_user"
   ]
  },
  {
   "cell_type": "code",
   "execution_count": null,
   "metadata": {},
   "outputs": [],
   "source": [
    "user_proj_counts = (prev_annots_for_user.groupby(['project_name'])\n",
    "                                   .agg(\n",
    "                                       num_annotated=('example_id','count'),\n",
    "                                       last_annot_time=('response_time','max')\n",
    "                                   )\n",
    "                                   .reset_index())\n",
    "user_proj_counts['days_since_last'] = (pd.datetime.now() - user_proj_counts['last_annot_time']).dt.days\n",
    "user_proj_counts"
   ]
  },
  {
   "cell_type": "code",
   "execution_count": null,
   "metadata": {},
   "outputs": [],
   "source": [
    "pd.datetime.now()"
   ]
  },
  {
   "cell_type": "markdown",
   "metadata": {},
   "source": [
    "### Project Leaderboard prototyping\n",
    "Added as an extra table on the already exisiting project page\n",
    "This code just to test the grouping logic"
   ]
  },
  {
   "cell_type": "code",
   "execution_count": 23,
   "metadata": {},
   "outputs": [
    {
     "name": "stderr",
     "output_type": "stream",
     "text": [
      "2020-05-01 14:11:19,355 - DEBUG - DB Engine Check Successful\n",
      "2020-05-01 14:11:19,355 - DEBUG - DB Engine Check Successful\n"
     ]
    },
    {
     "data": {
      "text/html": [
       "<div>\n",
       "<style scoped>\n",
       "    .dataframe tbody tr th:only-of-type {\n",
       "        vertical-align: middle;\n",
       "    }\n",
       "\n",
       "    .dataframe tbody tr th {\n",
       "        vertical-align: top;\n",
       "    }\n",
       "\n",
       "    .dataframe thead th {\n",
       "        text-align: right;\n",
       "    }\n",
       "</style>\n",
       "<table border=\"1\" class=\"dataframe\">\n",
       "  <thead>\n",
       "    <tr style=\"text-align: right;\">\n",
       "      <th></th>\n",
       "      <th>project_name</th>\n",
       "      <th>project_description</th>\n",
       "      <th>project_mode</th>\n",
       "    </tr>\n",
       "  </thead>\n",
       "  <tbody>\n",
       "    <tr>\n",
       "      <th>0</th>\n",
       "      <td>kappa_lambda_demo</td>\n",
       "      <td>DEMO PROJECT: Determining if monotypic/clonal ...</td>\n",
       "      <td>binary</td>\n",
       "    </tr>\n",
       "    <tr>\n",
       "      <th>1</th>\n",
       "      <td>cncr_hist_mc_demo</td>\n",
       "      <td>DEMO PROJECT: Classifying cancer histology fro...</td>\n",
       "      <td>multiclass</td>\n",
       "    </tr>\n",
       "    <tr>\n",
       "      <th>2</th>\n",
       "      <td>movie_reviews_demo</td>\n",
       "      <td>DEMO PROJECT: Classifying sentiment from movie...</td>\n",
       "      <td>multiclass</td>\n",
       "    </tr>\n",
       "    <tr>\n",
       "      <th>3</th>\n",
       "      <td>aml_bone_marrow_results</td>\n",
       "      <td>test project description</td>\n",
       "      <td>binary</td>\n",
       "    </tr>\n",
       "  </tbody>\n",
       "</table>\n",
       "</div>"
      ],
      "text/plain": [
       "              project_name                                project_description  \\\n",
       "0        kappa_lambda_demo  DEMO PROJECT: Determining if monotypic/clonal ...   \n",
       "1        cncr_hist_mc_demo  DEMO PROJECT: Classifying cancer histology fro...   \n",
       "2       movie_reviews_demo  DEMO PROJECT: Classifying sentiment from movie...   \n",
       "3  aml_bone_marrow_results                           test project description   \n",
       "\n",
       "  project_mode  \n",
       "0       binary  \n",
       "1   multiclass  \n",
       "2   multiclass  \n",
       "3       binary  "
      ]
     },
     "execution_count": 23,
     "metadata": {},
     "output_type": "execute_result"
    }
   ],
   "source": [
    "pv_dl.getProjects(return_as_dataframe=True)"
   ]
  },
  {
   "cell_type": "code",
   "execution_count": 29,
   "metadata": {},
   "outputs": [
    {
     "name": "stderr",
     "output_type": "stream",
     "text": [
      "2020-05-01 14:15:09,082 - DEBUG - DB Engine Check Successful\n",
      "2020-05-01 14:15:09,082 - DEBUG - DB Engine Check Successful\n"
     ]
    },
    {
     "data": {
      "text/html": [
       "<div>\n",
       "<style scoped>\n",
       "    .dataframe tbody tr th:only-of-type {\n",
       "        vertical-align: middle;\n",
       "    }\n",
       "\n",
       "    .dataframe tbody tr th {\n",
       "        vertical-align: top;\n",
       "    }\n",
       "\n",
       "    .dataframe thead th {\n",
       "        text-align: right;\n",
       "    }\n",
       "</style>\n",
       "<table border=\"1\" class=\"dataframe\">\n",
       "  <thead>\n",
       "    <tr style=\"text-align: right;\">\n",
       "      <th></th>\n",
       "      <th>response_time</th>\n",
       "      <th>project_name</th>\n",
       "      <th>user_name</th>\n",
       "      <th>user_ip</th>\n",
       "      <th>example_id</th>\n",
       "      <th>response</th>\n",
       "      <th>context_viewed</th>\n",
       "    </tr>\n",
       "  </thead>\n",
       "  <tbody>\n",
       "    <tr>\n",
       "      <th>2</th>\n",
       "      <td>2020-04-30 15:57:37</td>\n",
       "      <td>movie_reviews_demo</td>\n",
       "      <td>jmcawood</td>\n",
       "      <td>127.0.0.1</td>\n",
       "      <td>16.0</td>\n",
       "      <td>agree</td>\n",
       "      <td>no</td>\n",
       "    </tr>\n",
       "    <tr>\n",
       "      <th>3</th>\n",
       "      <td>2020-04-30 15:57:25</td>\n",
       "      <td>movie_reviews_demo</td>\n",
       "      <td>mrenquis</td>\n",
       "      <td>127.0.0.1</td>\n",
       "      <td>4.0</td>\n",
       "      <td>agree</td>\n",
       "      <td>no</td>\n",
       "    </tr>\n",
       "    <tr>\n",
       "      <th>4</th>\n",
       "      <td>2020-04-30 15:57:37</td>\n",
       "      <td>movie_reviews_demo</td>\n",
       "      <td>mrenquis</td>\n",
       "      <td>127.0.0.1</td>\n",
       "      <td>0.0</td>\n",
       "      <td>neutral</td>\n",
       "      <td>no</td>\n",
       "    </tr>\n",
       "    <tr>\n",
       "      <th>5</th>\n",
       "      <td>2020-04-30 15:57:46</td>\n",
       "      <td>movie_reviews_demo</td>\n",
       "      <td>mrenquis</td>\n",
       "      <td>127.0.0.1</td>\n",
       "      <td>16.0</td>\n",
       "      <td>agree</td>\n",
       "      <td>no</td>\n",
       "    </tr>\n",
       "    <tr>\n",
       "      <th>6</th>\n",
       "      <td>2020-05-01 13:36:31</td>\n",
       "      <td>movie_reviews_demo</td>\n",
       "      <td>awriedl</td>\n",
       "      <td>127.0.0.1</td>\n",
       "      <td>16.0</td>\n",
       "      <td>agree</td>\n",
       "      <td>no</td>\n",
       "    </tr>\n",
       "    <tr>\n",
       "      <th>8</th>\n",
       "      <td>2020-05-01 11:33:33</td>\n",
       "      <td>movie_reviews_demo</td>\n",
       "      <td>jdcobabe</td>\n",
       "      <td>127.0.0.1</td>\n",
       "      <td>16.0</td>\n",
       "      <td>neutral</td>\n",
       "      <td>no</td>\n",
       "    </tr>\n",
       "  </tbody>\n",
       "</table>\n",
       "</div>"
      ],
      "text/plain": [
       "        response_time        project_name user_name    user_ip  example_id  \\\n",
       "2 2020-04-30 15:57:37  movie_reviews_demo  jmcawood  127.0.0.1        16.0   \n",
       "3 2020-04-30 15:57:25  movie_reviews_demo  mrenquis  127.0.0.1         4.0   \n",
       "4 2020-04-30 15:57:37  movie_reviews_demo  mrenquis  127.0.0.1         0.0   \n",
       "5 2020-04-30 15:57:46  movie_reviews_demo  mrenquis  127.0.0.1        16.0   \n",
       "6 2020-05-01 13:36:31  movie_reviews_demo   awriedl  127.0.0.1        16.0   \n",
       "8 2020-05-01 11:33:33  movie_reviews_demo  jdcobabe  127.0.0.1        16.0   \n",
       "\n",
       "  response context_viewed  \n",
       "2    agree             no  \n",
       "3    agree             no  \n",
       "4  neutral             no  \n",
       "5    agree             no  \n",
       "6    agree             no  \n",
       "8  neutral             no  "
      ]
     },
     "execution_count": 29,
     "metadata": {},
     "output_type": "execute_result"
    }
   ],
   "source": [
    "prev_proj_annots_for_user_df = pv_dl.getPriorAnnotations(project_name='movie_reviews_demo',\n",
    "                                           return_as_dataframe=True)\n",
    "prev_proj_annots_for_user_df"
   ]
  },
  {
   "cell_type": "code",
   "execution_count": 32,
   "metadata": {},
   "outputs": [
    {
     "data": {
      "text/plain": [
       "[{'user_name': 'mrenquis',\n",
       "  'annotation_count': 3,\n",
       "  'medal': 'images/gold_small.png'},\n",
       " {'user_name': 'awriedl',\n",
       "  'annotation_count': 1,\n",
       "  'medal': 'images/silver_small.png'},\n",
       " {'user_name': 'jdcobabe',\n",
       "  'annotation_count': 1,\n",
       "  'medal': 'images/bronze_small.png'},\n",
       " {'user_name': 'jmcawood',\n",
       "  'annotation_count': 1,\n",
       "  'medal': 'images/sad_small.png'}]"
      ]
     },
     "execution_count": 32,
     "metadata": {},
     "output_type": "execute_result"
    }
   ],
   "source": [
    "project_leaderboard = (prev_proj_annots_for_user_df.groupby(['user_name']).size()\n",
    "                                                           .to_frame()\n",
    "                                                           .rename(columns={0:'annotation_count'})\n",
    "                                                           .sort_values(['annotation_count'], ascending=False)\n",
    "                                                           .reset_index(drop=False))\n",
    "# add medals\n",
    "if project_leaderboard.shape[0] >= 1:\n",
    "    project_leaderboard.loc[0,'medal'] = 'images/gold_small.png'\n",
    "if project_leaderboard.shape[0] >= 2:\n",
    "    project_leaderboard.loc[1,'medal'] = 'images/silver_small.png'\n",
    "if project_leaderboard.shape[0] >= 3:\n",
    "    project_leaderboard.loc[2,'medal'] = 'images/bronze_small.png'\n",
    "project_leaderboard['medal'] = project_leaderboard['medal'].fillna('images/sad_small.png')\n",
    "\n",
    "project_leaderboard = project_leaderboard.to_dict(orient='records')\n",
    "project_leaderboard"
   ]
  },
  {
   "cell_type": "code",
   "execution_count": 18,
   "metadata": {},
   "outputs": [
    {
     "data": {
      "text/plain": [
       "(2, 2)"
      ]
     },
     "execution_count": 18,
     "metadata": {},
     "output_type": "execute_result"
    }
   ],
   "source": [
    "project_leaderboard.shape"
   ]
  },
  {
   "cell_type": "code",
   "execution_count": 19,
   "metadata": {},
   "outputs": [
    {
     "data": {
      "text/plain": [
       "0"
      ]
     },
     "execution_count": 19,
     "metadata": {},
     "output_type": "execute_result"
    }
   ],
   "source": [
    "pd.DataFrame().shape[0]"
   ]
  },
  {
   "cell_type": "code",
   "execution_count": null,
   "metadata": {},
   "outputs": [],
   "source": []
  }
 ],
 "metadata": {
  "kernelspec": {
   "display_name": "pieval",
   "language": "python",
   "name": "pieval"
  },
  "language_info": {
   "codemirror_mode": {
    "name": "ipython",
    "version": 3
   },
   "file_extension": ".py",
   "mimetype": "text/x-python",
   "name": "python",
   "nbconvert_exporter": "python",
   "pygments_lexer": "ipython3",
   "version": "3.6.9"
  }
 },
 "nbformat": 4,
 "nbformat_minor": 1
}
