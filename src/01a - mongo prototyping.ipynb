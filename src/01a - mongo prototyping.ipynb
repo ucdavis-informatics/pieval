{
 "cells": [
  {
   "cell_type": "code",
   "execution_count": 1,
   "metadata": {},
   "outputs": [],
   "source": [
    "%load_ext autoreload\n",
    "%autoreload 2"
   ]
  },
  {
   "cell_type": "markdown",
   "metadata": {},
   "source": [
    "# Mongo DB connection Prototyping"
   ]
  },
  {
   "cell_type": "code",
   "execution_count": 16,
   "metadata": {},
   "outputs": [],
   "source": [
    "# imports and config\n",
    "\n",
    "from pymongo import MongoClient\n",
    "from mongo_common import print_collection_sizes"
   ]
  },
  {
   "cell_type": "code",
   "execution_count": 17,
   "metadata": {},
   "outputs": [
    {
     "name": "stdout",
     "output_type": "stream",
     "text": [
      "['admin', 'config', 'local', 'pv_db']\n",
      "Database already exists\n",
      "COLLECTION: projects                has 0 documents\n",
      "COLLECTION: users                has 0 documents\n"
     ]
    }
   ],
   "source": [
    "# creating the client\n",
    "mongo_client = MongoClient()\n",
    "\n",
    "\"\"\"\n",
    "Test client by reading out current database names\n",
    "\"\"\"\n",
    "print(mongo_client.list_database_names())\n",
    "if 'pv_db' in mongo_client.list_database_names():\n",
    "    print(\"Database already exists\")\n",
    "    pv_db = mongo_client['pv_db']\n",
    "    print_collection_sizes(pv_db)\n",
    "else:\n",
    "    print('Creating pv_db database')\n",
    "    pv_db = mongo_client['pv_db']\n",
    "    pv_db.create_collection('projects')\n",
    "    pv_db.create_collection('users')"
   ]
  },
  {
   "cell_type": "code",
   "execution_count": null,
   "metadata": {},
   "outputs": [],
   "source": [
    "mongo_client.create_database"
   ]
  }
 ],
 "metadata": {
  "kernelspec": {
   "display_name": "Python 3",
   "language": "python",
   "name": "python3"
  },
  "language_info": {
   "codemirror_mode": {
    "name": "ipython",
    "version": 3
   },
   "file_extension": ".py",
   "mimetype": "text/x-python",
   "name": "python",
   "nbconvert_exporter": "python",
   "pygments_lexer": "ipython3",
   "version": "3.10.12"
  },
  "orig_nbformat": 4
 },
 "nbformat": 4,
 "nbformat_minor": 2
}
