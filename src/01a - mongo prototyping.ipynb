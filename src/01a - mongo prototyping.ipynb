{
 "cells": [
  {
   "cell_type": "code",
   "execution_count": null,
   "metadata": {},
   "outputs": [],
   "source": [
    "%load_ext autoreload\n",
    "%autoreload 2"
   ]
  },
  {
   "cell_type": "markdown",
   "metadata": {},
   "source": [
    "# Mongo DB connection Prototyping"
   ]
  },
  {
   "cell_type": "code",
   "execution_count": null,
   "metadata": {},
   "outputs": [],
   "source": [
    "# imports and config\n",
    "import pandas as pd\n",
    "from pymongo import UpdateOne\n",
    "import numpy as np\n",
    "from datetime import datetime\n",
    "import funcy\n",
    "\n",
    "# siblings\n",
    "from mongo_common import print_collection_sizes, get_mongo_client\n",
    "import data_loader"
   ]
  },
  {
   "cell_type": "code",
   "execution_count": null,
   "metadata": {},
   "outputs": [],
   "source": [
    "# creating the client\n",
    "local_connect_dict = {\n",
    "    \"host\":\"localhost\",\n",
    "    \"port\":27017,\n",
    "    \"user\":'',\n",
    "    \"pass\":'',\n",
    "    \"auth_source\":''\n",
    "}\n",
    "mongo_client = get_mongo_client(local_connect_dict, tls_flag=False, tlsAllowInvalidCertificates=True)\n",
    "\n",
    "\"\"\"\n",
    "Test client by reading out current database names\n",
    "\"\"\"\n",
    "print(mongo_client.list_database_names())\n",
    "if 'pv_db' in mongo_client.list_database_names():\n",
    "    print(\"Database already exists\")\n",
    "    pv_db = mongo_client['pv_db']\n",
    "    print_collection_sizes(pv_db)\n",
    "else:\n",
    "    print('Creating pv_db database')\n",
    "    pv_db = mongo_client['pv_db']\n",
    "    pv_db.create_collection('projects')\n",
    "    pv_db.create_collection('users')"
   ]
  },
  {
   "cell_type": "code",
   "execution_count": null,
   "metadata": {},
   "outputs": [],
   "source": [
    "pv_dl = data_loader.MongoDataLoader(local_connect_dict, 'pv_db','users','projects','project_data' )\n",
    "pv_dl.get_user_data()"
   ]
  },
  {
   "cell_type": "code",
   "execution_count": null,
   "metadata": {},
   "outputs": [],
   "source": [
    "# list all unique projects\n",
    "pv_projects = pv_dl.get_projects(user_name='', project_name='')\n",
    "print(set([x['project_name'] for x in pv_projects]))\n",
    "pv_projects"
   ]
  },
  {
   "cell_type": "code",
   "execution_count": null,
   "metadata": {},
   "outputs": [],
   "source": [
    "pv_project_df = pd.DataFrame(pv_projects)\n",
    "pv_project_df"
   ]
  },
  {
   "cell_type": "markdown",
   "metadata": {},
   "source": [
    "## Project Data and Annotations"
   ]
  },
  {
   "cell_type": "code",
   "execution_count": null,
   "metadata": {},
   "outputs": [],
   "source": [
    "prj_data = pv_dl.get_project_data(project_name='cncr_hist_mc_demo')\n",
    "print(len(prj_data))\n",
    "\n",
    "\n",
    "# convert raw project data (maybe annots maybe not) into dataframe\n",
    "prj_data_df = pd.DataFrame(prj_data)\n",
    "print(prj_data_df.shape)\n",
    "display(prj_data_df)\n",
    "\n",
    "if 'annots' in prj_data_df.columns:\n",
    "    prj_data_annots = prj_data_df.explode('annots').reset_index(drop=True)\n",
    "    print(prj_data_annots.shape)\n",
    "    display(prj_data_annots)\n",
    "    prj_data_annots_final = prj_data_annots.join(prj_data_annots['annots'].apply(pd.Series))\n",
    "    print(prj_data_annots_final.shape)\n",
    "    display(prj_data_annots_final)\n",
    "else:\n",
    "    print(\"No annots for this project\")"
   ]
  },
  {
   "cell_type": "markdown",
   "metadata": {},
   "source": [
    "### Adding/Deleting Annots"
   ]
  },
  {
   "cell_type": "code",
   "execution_count": null,
   "metadata": {},
   "outputs": [],
   "source": [
    "# adding an annotation\n",
    "# step 1 - obtain the example\n",
    "one_example = prj_data[1]\n",
    "cur_dt = datetime.now()\n",
    "cur_dt = cur_dt.replace(microsecond=0)\n",
    "# step 2 - see if any prior annotations exists\n",
    "if 'annots' in one_example:\n",
    "    print(\"There are prior annotations!\")\n",
    "    # in this case grab the current annot array\n",
    "    annot_array = one_example['annots']\n",
    "    max_annot_id = max([x['annot_id'] for x in annot_array])\n",
    "    one_annot = {\n",
    "        'annot_id':max_annot_id+1,\n",
    "        'response_time':cur_dt,\n",
    "        'user_name':'pieval_test',\n",
    "        'user_ip':'127.0.0.1',\n",
    "        'response':'testing',\n",
    "        'context_viewed':'yes'\n",
    "    }\n",
    "    annot_array.append(one_annot)\n",
    "else:\n",
    "    print(\"There are no prior annotations\")\n",
    "    # in this case create a new annot array\n",
    "    one_annot = {\n",
    "        'annot_id':0,\n",
    "        'response_time':cur_dt,\n",
    "        'user_name':'pieval_test',\n",
    "        'user_ip':'127.0.0.1',\n",
    "        'response':'testing',\n",
    "        'context_viewed':'yes'\n",
    "    }    \n",
    "    annot_array = [one_annot]\n",
    "\n",
    "extra_feature_dict = {'annots':annot_array}\n",
    "pv_dl.update_example(one_example, extra_feature_dict)"
   ]
  },
  {
   "cell_type": "code",
   "execution_count": null,
   "metadata": {},
   "outputs": [],
   "source": [
    "## deleting an annotation\n",
    "annot_id_to_delete = 2\n",
    "one_example = prj_data[0]\n",
    "if 'annots' in one_example:\n",
    "    print(f\"There are prior annotations! - deleting annot with id = {annot_id_to_delete}\")\n",
    "    annot_array = one_example['annots']\n",
    "    new_annot_array = [x for x in annot_array if x['annot_id'] != annot_id_to_delete]\n",
    "else:\n",
    "    print(\"There are no prior annotations - Nothing to delete!\")\n",
    "\n",
    "print(\"OG annot array\")\n",
    "print(annot_array)\n",
    "print(\"updated annot array\")\n",
    "print(new_annot_array)\n",
    "\n",
    "# now set the version in mongo to the updated annot array\n",
    "extra_feature_dict = {'annots':new_annot_array}\n",
    "pv_dl.saveAnnot(one_example, extra_feature_dict)"
   ]
  },
  {
   "cell_type": "markdown",
   "metadata": {},
   "source": [
    "## Loading/reformatting Example data into JSON"
   ]
  },
  {
   "cell_type": "code",
   "execution_count": null,
   "metadata": {},
   "outputs": [],
   "source": [
    "proj_classes_df = pd.read_csv('../example_database/project_classes.csv')\n",
    "proj_users = pd.read_csv('../example_database/project_users.csv')\n",
    "proj_df = pd.read_csv('../example_database/projects.csv')\n",
    "\n",
    "# project data - the documents\n",
    "proj_data_df = pd.read_csv('../example_database/project_data.csv')\n",
    "# user information\n",
    "user_df = pd.read_csv('../example_database/user_details.csv')\n",
    "\n",
    "# these data WONT be loaded in to the example database - this structure will be considered completely legacy\n",
    "annot_df = pd.read_csv('../example_database/annotation_events.csv')"
   ]
  },
  {
   "cell_type": "markdown",
   "metadata": {},
   "source": [
    "### Merging project data together"
   ]
  },
  {
   "cell_type": "code",
   "execution_count": null,
   "metadata": {},
   "outputs": [],
   "source": [
    "proj_users_grp = (proj_users.groupby('project_name')\n",
    "                  .agg(\n",
    "                      user_list=('user_name',lambda x:list(x))\n",
    "                      )\n",
    "                    .reset_index()\n",
    "                )\n",
    "\n",
    "proj_classes_grp = (proj_classes_df.groupby('project_name')\n",
    "                  .agg(\n",
    "                      class_list=('class',lambda x:list(x))\n",
    "                      )\n",
    "                    .reset_index()\n",
    "                )\n",
    "\n",
    "proj_final_df = pd.merge(proj_df, proj_users_grp, how='left', on='project_name')\n",
    "proj_final_df = pd.merge(proj_final_df, proj_classes_grp, how='left', on='project_name')\n",
    "\n",
    "proj_final_df"
   ]
  },
  {
   "cell_type": "code",
   "execution_count": null,
   "metadata": {},
   "outputs": [],
   "source": [
    "# write project data to mongo\n",
    "proj_dict_list = proj_final_df.to_dict(orient='records')\n",
    "for one_obj in proj_dict_list:\n",
    "    for k,v in one_obj.items():\n",
    "        if isinstance(v, (pd._libs.tslibs.nattype.NaTType)):\n",
    "            one_obj[k] = None\n",
    "        if (isinstance(v, float) and np.isnan(v)):\n",
    "            one_obj[k] = None\n",
    "        if isinstance(v, np.ndarray):\n",
    "            one_obj[k] = v.tolist()\n",
    "\n",
    "proj_upserts = [UpdateOne({\"_id\": str(x.get('project_name'))},\n",
    "                    {\"$set\": x},\n",
    "                    upsert=True) for x in proj_dict_list]"
   ]
  },
  {
   "cell_type": "code",
   "execution_count": null,
   "metadata": {},
   "outputs": [],
   "source": [
    "bulk_res = pv_db['projects'].bulk_write(proj_upserts)\n",
    "bulk_api_result_dict = bulk_res.bulk_api_result\n",
    "bulk_api_result_dict"
   ]
  },
  {
   "cell_type": "markdown",
   "metadata": {},
   "source": [
    "### Project Data"
   ]
  },
  {
   "cell_type": "code",
   "execution_count": null,
   "metadata": {},
   "outputs": [],
   "source": [
    "proj_data_df[\"_id\"] = proj_data_df['project_name'] + '_' + proj_data_df['example_id'].astype(str)\n",
    "proj_data_df"
   ]
  },
  {
   "cell_type": "code",
   "execution_count": null,
   "metadata": {},
   "outputs": [],
   "source": [
    "proj_data_df['_id'].is_unique"
   ]
  },
  {
   "cell_type": "code",
   "execution_count": null,
   "metadata": {},
   "outputs": [],
   "source": [
    "# write project data to mongo\n",
    "proj_data_dict_list = proj_data_df.to_dict(orient='records')\n",
    "for one_obj in proj_data_dict_list:\n",
    "    for k,v in one_obj.items():\n",
    "        if isinstance(v, (pd._libs.tslibs.nattype.NaTType)):\n",
    "            one_obj[k] = None\n",
    "        if (isinstance(v, float) and np.isnan(v)):\n",
    "            one_obj[k] = None\n",
    "        if isinstance(v, np.ndarray):\n",
    "            one_obj[k] = v.tolist()\n",
    "\n",
    "proj_data_upserts = [UpdateOne({\"_id\": str(x.get('_id'))},\n",
    "                    {\"$set\": x},\n",
    "                    upsert=True) for x in proj_data_dict_list]"
   ]
  },
  {
   "cell_type": "code",
   "execution_count": null,
   "metadata": {},
   "outputs": [],
   "source": [
    "bulk_res = pv_db['project_data'].bulk_write(proj_data_upserts)\n",
    "bulk_api_result_dict = bulk_res.bulk_api_result\n",
    "bulk_api_result_dict"
   ]
  },
  {
   "cell_type": "markdown",
   "metadata": {},
   "source": [
    "### User Data"
   ]
  },
  {
   "cell_type": "code",
   "execution_count": null,
   "metadata": {},
   "outputs": [],
   "source": [
    "user_df[\"_id\"] = user_df['user_name']\n",
    "user_df"
   ]
  },
  {
   "cell_type": "code",
   "execution_count": null,
   "metadata": {},
   "outputs": [],
   "source": [
    "# write project data to mongo\n",
    "user_dict_list = user_df.to_dict(orient='records')\n",
    "for one_obj in user_dict_list:\n",
    "    for k,v in one_obj.items():\n",
    "        if isinstance(v, (pd._libs.tslibs.nattype.NaTType)):\n",
    "            one_obj[k] = None\n",
    "        if (isinstance(v, float) and np.isnan(v)):\n",
    "            one_obj[k] = None\n",
    "        if isinstance(v, np.ndarray):\n",
    "            one_obj[k] = v.tolist()\n",
    "\n",
    "user_upserts = [UpdateOne({\"_id\": str(x.get('_id'))},\n",
    "                    {\"$set\": x},\n",
    "                    upsert=True) for x in user_dict_list]\n",
    "user_upserts"
   ]
  },
  {
   "cell_type": "code",
   "execution_count": null,
   "metadata": {},
   "outputs": [],
   "source": [
    "bulk_res = pv_db['users'].bulk_write(user_upserts)\n",
    "bulk_api_result_dict = bulk_res.bulk_api_result\n",
    "bulk_api_result_dict"
   ]
  },
  {
   "cell_type": "markdown",
   "metadata": {},
   "source": [
    "## Annotation Data\n",
    "\n",
    "> NOTE!  In the mongo version of this project, there will not be a seperate annoation collection.  We will simply update the original documents in project_data with additional k:v pairs resulting from the annotation process"
   ]
  },
  {
   "cell_type": "code",
   "execution_count": null,
   "metadata": {},
   "outputs": [],
   "source": [
    "annot_df"
   ]
  },
  {
   "cell_type": "code",
   "execution_count": null,
   "metadata": {},
   "outputs": [],
   "source": []
  }
 ],
 "metadata": {
  "kernelspec": {
   "display_name": "Python 3",
   "language": "python",
   "name": "python3"
  },
  "language_info": {
   "codemirror_mode": {
    "name": "ipython",
    "version": 3
   },
   "file_extension": ".py",
   "mimetype": "text/x-python",
   "name": "python",
   "nbconvert_exporter": "python",
   "pygments_lexer": "ipython3",
   "version": "3.10.12"
  },
  "orig_nbformat": 4
 },
 "nbformat": 4,
 "nbformat_minor": 2
}
