{
 "cells": [
  {
   "cell_type": "code",
   "execution_count": null,
   "metadata": {},
   "outputs": [],
   "source": [
    "%load_ext autoreload\n",
    "%autoreload 2"
   ]
  },
  {
   "cell_type": "markdown",
   "metadata": {},
   "source": [
    "# Interacting with Vault\n",
    "For convinience, this app has been configured to be used with [Vault](https://www.vaultproject.io).  With Vault your app is provided a token that allows it to access secrets:\n",
    "- db usernames/passwords\n",
    "- other credentials\n",
    "Over a secure API rather than having to store these items directly with each instance of your app.  This makes it MUCH easier to move your deployments around or scale them out by creating replicas.\n",
    "\n",
    "Here, we experiment with the best ways to interact with Vault and keep tokens up to date.  This starts with an understanding of the different toke types available in Vault.  [Token Overview](https://www.vaultproject.io/docs/concepts/tokens)"
   ]
  },
  {
   "cell_type": "code",
   "execution_count": null,
   "metadata": {},
   "outputs": [],
   "source": [
    "import hvac\n",
    "from piesafe import piesafe\n",
    "from instance import config\n",
    "from pprint import pprint\n",
    "\n",
    "piesafe.init_logging(__name__)"
   ]
  },
  {
   "cell_type": "markdown",
   "metadata": {},
   "source": [
    "vault token create -orphan=True -no-default-policy=True -policy=omop-policy\n",
    "Key                  Value\n",
    "---                  -----\n",
    "token                s.a90uT7eCWr5UKIg1IM8cqjJC\n",
    "token_accessor       eC8ARgmue6pdn8kqBtnVBuxg\n",
    "token_duration       768h\n",
    "token_renewable      true\n",
    "token_policies       [\"omop-policy\"]\n",
    "identity_policies    []\n",
    "policies             [\"omop-policy\"]\n",
    "\n",
    "\n",
    "➜  ~ vault token create\n",
    "Key                  Value\n",
    "---                  -----\n",
    "token                s.OWmIyZCL86xohmh585XsBxtb\n",
    "token_accessor       PflejoHNGrSGxGHps66GSDAz\n",
    "token_duration       768h\n",
    "token_renewable      true\n",
    "token_policies       [\"default\"]\n",
    "identity_policies    [\"vault_admin\"]\n",
    "policies             [\"default\" \"vault_admin\"]\n",
    "➜  ~ \n"
   ]
  },
  {
   "cell_type": "code",
   "execution_count": null,
   "metadata": {},
   "outputs": [],
   "source": [
    "named_token='s.'\n",
    "orph_token='s.'\n",
    "vtc_tok='s.'\n",
    "pv_tok = 's.'\n",
    "\n",
    "\n",
    "named_vault = hvac.Client(url=config.VAULT_SERVER,\n",
    "                   token=named_token)\n",
    "\n",
    "orph_vault = hvac.Client(url=config.VAULT_SERVER,\n",
    "                   token=orph_token)\n",
    "\n",
    "vtc_vault = hvac.Client(url=config.VAULT_SERVER,\n",
    "                   token=vtc_tok)\n",
    "\n",
    "pv_vault = hvac.Client(url=config.VAULT_SERVER,\n",
    "                   token=pv_tok)"
   ]
  },
  {
   "cell_type": "code",
   "execution_count": null,
   "metadata": {
    "scrolled": false
   },
   "outputs": [],
   "source": [
    "nt = named_vault.lookup_token()\n",
    "ot = orph_vault.lookup_token()\n",
    "vt = vtc_vault.lookup_token()\n",
    "pv = pv_vault.lookup_token()\n",
    "print('Named Token \\n')\n",
    "pprint(nt)\n",
    "print(nt.keys())\n",
    "print(nt.get('data').keys())\n",
    "print()\n",
    "\n",
    "print(\"Orphan token \\n\")\n",
    "pprint(ot)\n",
    "print(ot.keys())\n",
    "print(ot.get('data').keys())\n",
    "print()\n",
    "\n",
    "print('Vault token create \\n')\n",
    "pprint(vt)\n",
    "print(vt.keys())\n",
    "print(vt.get('data').keys())\n",
    "print()\n",
    "\n",
    "print(\"Pieval token \\n\")\n",
    "pprint(pv)\n",
    "print(pv.keys())\n",
    "print(pv.get('data').keys())\n",
    "print()"
   ]
  },
  {
   "cell_type": "code",
   "execution_count": null,
   "metadata": {},
   "outputs": [],
   "source": [
    "pv"
   ]
  },
  {
   "cell_type": "code",
   "execution_count": null,
   "metadata": {},
   "outputs": [],
   "source": [
    "pv_vault.renew_token()"
   ]
  },
  {
   "cell_type": "code",
   "execution_count": null,
   "metadata": {},
   "outputs": [],
   "source": [
    "pv_vault.lookup_token()"
   ]
  },
  {
   "cell_type": "markdown",
   "metadata": {},
   "source": [
    "# Approle auth\n",
    "pieval_role\n",
    "\n"
   ]
  },
  {
   "cell_type": "code",
   "execution_count": null,
   "metadata": {},
   "outputs": [],
   "source": [
    "ar = hvac.Client(url=config.VAULT_SERVER)\n",
    "ar.auth_approle('','')"
   ]
  },
  {
   "cell_type": "code",
   "execution_count": null,
   "metadata": {},
   "outputs": [],
   "source": [
    "ar.lookup_token()"
   ]
  },
  {
   "cell_type": "code",
   "execution_count": null,
   "metadata": {},
   "outputs": [],
   "source": [
    "ar.read('cdi3/db/cdi3sql01/prod')"
   ]
  },
  {
   "cell_type": "markdown",
   "metadata": {},
   "source": [
    "# Using Piesafe"
   ]
  },
  {
   "cell_type": "code",
   "execution_count": null,
   "metadata": {},
   "outputs": [],
   "source": [
    "vault_client = piesafe.init_vault(None,\n",
    "                   vault_server=config.VAULT_SERVER,\n",
    "                   vault_role_id='',\n",
    "                   vault_secret_id='')\n",
    "pprint(vault_client.lookup_token())\n",
    "print()\n",
    "print()\n",
    "vault_client.read('cdi3/db/cdi3sql01/dev')"
   ]
  },
  {
   "cell_type": "code",
   "execution_count": null,
   "metadata": {},
   "outputs": [],
   "source": [
    "vault_client = piesafe.init_vault(None,\n",
    "                   vault_server=config.VAULT_SERVER,\n",
    "                   vault_token=pv_tok)\n",
    "vault_client.read('cdi3/db/cdi3sql01/dev')"
   ]
  },
  {
   "cell_type": "code",
   "execution_count": null,
   "metadata": {},
   "outputs": [],
   "source": []
  }
 ],
 "metadata": {
  "kernelspec": {
   "display_name": "pieval",
   "language": "python",
   "name": "pieval"
  },
  "language_info": {
   "codemirror_mode": {
    "name": "ipython",
    "version": 3
   },
   "file_extension": ".py",
   "mimetype": "text/x-python",
   "name": "python",
   "nbconvert_exporter": "python",
   "pygments_lexer": "ipython3",
   "version": "3.6.9"
  }
 },
 "nbformat": 4,
 "nbformat_minor": 4
}
